{
 "cells": [
  {
   "attachments": {},
   "cell_type": "markdown",
   "metadata": {},
   "source": [
    "# Login"
   ]
  },
  {
   "cell_type": "code",
   "execution_count": null,
   "metadata": {},
   "outputs": [],
   "source": [
    "username = 'fanja595'  # vitejej104@bzemail.com\n",
    "password = 'QMN8PcCP'\n",
    "code = 'ZBEA4H7DZMXAUSPRH35K453T4HMX4YVS'\n",
    "sessionid = '62883843682%3A6jKzPXwBCyQpsv%3A7%3AAYew09eJpzcSsnXwP-yO3U75VB_NHMsBCodz7nn0pg'"
   ]
  },
  {
   "cell_type": "code",
   "execution_count": null,
   "metadata": {},
   "outputs": [],
   "source": [
    "import pyotp\n",
    "\n",
    "verification_code = pyotp.TOTP(code).now()\n",
    "verification_code"
   ]
  },
  {
   "cell_type": "code",
   "execution_count": null,
   "metadata": {},
   "outputs": [],
   "source": [
    "from instagrapi import Client\n",
    "\n",
    "cl = Client()\n",
    "cl.set_proxy('http://127.0.0.1:7890')\n",
    "cl.login_by_sessionid(sessionid)\n",
    "# cl.login(username, password, verification_code)\n",
    "\n",
    "user_id = cl.user_id_from_username(username)\n",
    "# medias = cl.user_medias(user_id, 20)\n",
    "user_id"
   ]
  },
  {
   "cell_type": "code",
   "execution_count": null,
   "metadata": {},
   "outputs": [],
   "source": [
    "cl.dump_settings('settings.json')\n",
    "# cl.load_settings('settings.json')\n",
    "# cl.get_timeline_feed()"
   ]
  },
  {
   "attachments": {},
   "cell_type": "markdown",
   "metadata": {},
   "source": [
    "# 获取粉丝"
   ]
  },
  {
   "cell_type": "code",
   "execution_count": null,
   "metadata": {},
   "outputs": [],
   "source": [
    "user_id = '5011353332'  # trump\n",
    "amount = 10"
   ]
  },
  {
   "cell_type": "code",
   "execution_count": null,
   "metadata": {},
   "outputs": [],
   "source": [
    "def get_user_followers(user_id, amount):\n",
    "    max_id = ''\n",
    "    return_hits = 0\n",
    "    while return_hits < amount:\n",
    "        users, max_id = cl.user_followers_v1_chunk(user_id, max_amount=200, max_id=max_id)\n",
    "        yield from users\n",
    "        return_hits += len(users)\n",
    "        if not max_id: \n",
    "            break\n",
    "\n",
    "for user in get_user_followers(user_id, amount):\n",
    "    userstr = f'{user.pk} {user.username} {user.full_name}\\n'\n",
    "    with open(f'{user_id}_{amount}.txt', 'a', encoding='utf-8') as fp:\n",
    "        fp.write(userstr)"
   ]
  },
  {
   "cell_type": "code",
   "execution_count": null,
   "metadata": {},
   "outputs": [],
   "source": [
    "cl.private_request(f\"friendships/{user_id}/followers/\",\n",
    "                params={\n",
    "                    \"max_id\": '',\n",
    "                    \"count\": 12,\n",
    "                    \"rank_token\": cl.rank_token,\n",
    "                    \"search_surface\": \"follow_list_page\",\n",
    "                    \"query\": \"\",\n",
    "                    \"enable_groups\": \"true\",\n",
    "                },)"
   ]
  },
  {
   "cell_type": "code",
   "execution_count": null,
   "metadata": {},
   "outputs": [],
   "source": [
    "users, _ = cl.user_followers_v1_chunk(user_id, max_amount=10, max_id='')\n",
    "for user in users:\n",
    "    print(user.pk)"
   ]
  },
  {
   "attachments": {},
   "cell_type": "markdown",
   "metadata": {},
   "source": [
    "# 发送消息"
   ]
  },
  {
   "cell_type": "code",
   "execution_count": null,
   "metadata": {},
   "outputs": [],
   "source": [
    "# cl.direct_send(text='Hello', user_ids=['62433374395'])\n",
    "cl.direct_send('How are you?', user_ids=[cl.user_id])  # send youself"
   ]
  },
  {
   "cell_type": "code",
   "execution_count": null,
   "metadata": {},
   "outputs": [],
   "source": [
    "import json\n",
    "\n",
    "cl.private_request(\"https://i.instagram.com/api/v1/direct_v2/create_group_thread/\",\n",
    "                   data={\n",
    "                    \"_csrftoken\": cl.token,\n",
    "                    \"_uuid\": cl.uuid,\n",
    "                    \"_uid\": cl.user_id,\n",
    "                    \"recipient_users\": json.dumps(\n",
    "                        [str(user) for user in ['4770627945', '63470766171', '49746075777']], separators=(\",\", \":\")\n",
    "                    ),\n",
    "                },)"
   ]
  },
  {
   "cell_type": "code",
   "execution_count": null,
   "metadata": {},
   "outputs": [],
   "source": [
    "from datetime import datetime\n",
    "\n",
    "# 设定群组消息间隔时间\n",
    "group_dm_delay = 30\n",
    "# 查找最后建的群组, 确定最后发送消息时间\n",
    "threads = cl.direct_threads()\n",
    "group = None\n",
    "last_active_at = None\n",
    "meet_dm_delay = False  # 是否达到时间间隔要求\n",
    "for thread in threads:\n",
    "    if thread.is_group and thread.admin_user_ids[0] == cl.user_id:\n",
    "        group = thread\n",
    "        break\n",
    "# 存在群组, 查找最近群组的最近20条群组消息, 获取管理员发布消息的最后时间\n",
    "if group:\n",
    "    print(group.id, len(group.users), group.thread_title)\n",
    "    messages = cl.direct_messages(group.id)\n",
    "    # 如果没有主动发送消息的最后时间, 则取最后一条群组消息的时间\n",
    "    last_active_at = messages[0].timestamp\n",
    "    for message in messages:\n",
    "        if int(message.user_id) == cl.user_id:\n",
    "            if message.item_type == 'media':\n",
    "                print('[图片消息]', message.timestamp.isoformat(), message.media.thumbnail_url)\n",
    "                last_active_at = message.timestamp\n",
    "                break\n",
    "            if message.item_type == 'xma_link':\n",
    "                print('[文字消息]', message.timestamp.isoformat(), message.text)\n",
    "                last_active_at = message.timestamp\n",
    "                break\n",
    "    print('最后管理员消息或群组活跃时间', last_active_at.isoformat())\n",
    "    timedelta = (datetime.now() - group.messages[0].timestamp).total_seconds() // 60\n",
    "    if timedelta >= group_dm_delay:\n",
    "        meet_dm_delay = True\n",
    "# 如果最后消息发送时间满足设定间隔(15分钟以上或更久), 则可以创建群组和发送消息\n",
    "if not meet_dm_delay:\n",
    "    print('不满足设定群组创建和消息时间, 请等待一段时间后重试')\n",
    "else:\n",
    "    print('TODO 创建新的群组')\n",
    "    # cl.direct_send('Hello', thread_ids=[group.id])  # 发送文本消息\n",
    "    # cl.direct_send_photo(photo_path, thread_ids=[group.id])  # 发送图片消息"
   ]
  },
  {
   "cell_type": "code",
   "execution_count": null,
   "metadata": {},
   "outputs": [],
   "source": [
    "cl.direct_messages(group.id, 20)"
   ]
  },
  {
   "cell_type": "code",
   "execution_count": null,
   "metadata": {},
   "outputs": [],
   "source": [
    "cl.direct_threads()[3]"
   ]
  },
  {
   "cell_type": "code",
   "execution_count": null,
   "metadata": {},
   "outputs": [],
   "source": [
    "cl.direct_send('Happy happy', thread_ids=[cl.direct_threads()[3].id])"
   ]
  },
  {
   "cell_type": "code",
   "execution_count": null,
   "metadata": {},
   "outputs": [],
   "source": [
    "\n",
    "line = \"sessionid=64055380614%3ApTBqTXlUuIq78K%3A22%3AAYfpIsHGBa_wO08jvcdJYdENF1UuWkUw3Vpe2jmAOw|\"\n",
    "import re\n",
    "pattern = re.compile(r'(?<=sessionid=).*?(?=\\|)')\n",
    "if result := re.search(pattern, line):\n",
    "    print( result.group(0) )\n"
   ]
  },
  {
   "cell_type": "code",
   "execution_count": null,
   "metadata": {},
   "outputs": [],
   "source": [
    "import requests\n",
    "from loguru import logger\n",
    "\n",
    "def get_proxy():\n",
    "    # 随机获取一条网络代理\n",
    "    # if 'return_type' not in \n",
    "    params = { 'return_type': 'json' }\n",
    "    res = requests.get('http://ipm-ins-h15cbu96.ipidea.online:486/proxy/getProxyList?key=f8b2f6aad19000824d08c485d8ba141a&index=0&num=1',\n",
    "                       params=params)\n",
    "    if res.status_code == 200:\n",
    "        proxies = res.json()['data']\n",
    "        print(proxies)\n",
    "    else:\n",
    "        logger.error(f'代理地址请求失败{res.status_code}')\n",
    "\n",
    "get_proxy()"
   ]
  },
  {
   "cell_type": "code",
   "execution_count": 1,
   "metadata": {},
   "outputs": [
    {
     "name": "stderr",
     "output_type": "stream",
     "text": [
      "\u001b[32m2024-02-23 20:10:18.844\u001b[0m | \u001b[1mINFO    \u001b[0m | \u001b[36mutils\u001b[0m:\u001b[36mget_proxy\u001b[0m:\u001b[36m120\u001b[0m - \u001b[1m随机选择代理: {'ip': '101.32.114.19', 'port': 5000}\u001b[0m\n"
     ]
    },
    {
     "data": {
      "text/plain": [
       "'http://101.32.114.19:5000'"
      ]
     },
     "execution_count": 1,
     "metadata": {},
     "output_type": "execute_result"
    }
   ],
   "source": [
    "from utils import get_proxy\n",
    "\n",
    "get_proxy()"
   ]
  }
 ],
 "metadata": {
  "kernelspec": {
   "display_name": "Python 3",
   "language": "python",
   "name": "python3"
  },
  "language_info": {
   "codemirror_mode": {
    "name": "ipython",
    "version": 3
   },
   "file_extension": ".py",
   "mimetype": "text/x-python",
   "name": "python",
   "nbconvert_exporter": "python",
   "pygments_lexer": "ipython3",
   "version": "3.9.5"
  },
  "orig_nbformat": 4,
  "vscode": {
   "interpreter": {
    "hash": "9798b14069d1836821433dd5eaee7be31fc510848240c2b2488ae467bccf8d86"
   }
  }
 },
 "nbformat": 4,
 "nbformat_minor": 2
}
