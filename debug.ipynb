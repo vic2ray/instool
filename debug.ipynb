{
 "cells": [
  {
   "attachments": {},
   "cell_type": "markdown",
   "metadata": {},
   "source": [
    "# Login"
   ]
  },
  {
   "cell_type": "code",
   "execution_count": 5,
   "metadata": {},
   "outputs": [],
   "source": [
    "username = 'fanja595'  # vitejej104@bzemail.com\n",
    "password = 'QMN8PcCP'\n",
    "code = 'ZBEA4H7DZMXAUSPRH35K453T4HMX4YVS'\n",
    "sessionid = '62883843682%3A6jKzPXwBCyQpsv%3A7%3AAYew09eJpzcSsnXwP-yO3U75VB_NHMsBCodz7nn0pg1'"
   ]
  },
  {
   "cell_type": "code",
   "execution_count": 27,
   "metadata": {},
   "outputs": [
    {
     "data": {
      "text/plain": [
       "'857233'"
      ]
     },
     "execution_count": 27,
     "metadata": {},
     "output_type": "execute_result"
    }
   ],
   "source": [
    "import pyotp\n",
    "\n",
    "verification_code = pyotp.TOTP(code).now()\n",
    "verification_code"
   ]
  },
  {
   "cell_type": "code",
   "execution_count": 7,
   "metadata": {},
   "outputs": [
    {
     "ename": "ClientConnectionError",
     "evalue": "ConnectionError HTTPSConnectionPool(host='i.instagram.com', port=443): Max retries exceeded with url: /api/v1/users/62883843682/info/ (Caused by ProtocolError('Connection aborted.', ConnectionAbortedError(10053, '你的主机中的软件中止了一个已建立的连接。', None, 10053, None)))",
     "output_type": "error",
     "traceback": [
      "\u001b[1;31m---------------------------------------------------------------------------\u001b[0m",
      "\u001b[1;31mProtocolError\u001b[0m                             Traceback (most recent call last)",
      "\u001b[1;31mProtocolError\u001b[0m: ('Connection aborted.', ConnectionAbortedError(10053, '你的主机中的软件中止了一个已建立的连接。', None, 10053, None))",
      "\nThe above exception was the direct cause of the following exception:\n",
      "\u001b[1;31mMaxRetryError\u001b[0m                             Traceback (most recent call last)",
      "File \u001b[1;32md:\\Env\\Python310\\lib\\site-packages\\requests\\adapters.py:486\u001b[0m, in \u001b[0;36mHTTPAdapter.send\u001b[1;34m(self, request, stream, timeout, verify, cert, proxies)\u001b[0m\n\u001b[0;32m    485\u001b[0m \u001b[39mtry\u001b[39;00m:\n\u001b[1;32m--> 486\u001b[0m     resp \u001b[39m=\u001b[39m conn\u001b[39m.\u001b[39;49murlopen(\n\u001b[0;32m    487\u001b[0m         method\u001b[39m=\u001b[39;49mrequest\u001b[39m.\u001b[39;49mmethod,\n\u001b[0;32m    488\u001b[0m         url\u001b[39m=\u001b[39;49murl,\n\u001b[0;32m    489\u001b[0m         body\u001b[39m=\u001b[39;49mrequest\u001b[39m.\u001b[39;49mbody,\n\u001b[0;32m    490\u001b[0m         headers\u001b[39m=\u001b[39;49mrequest\u001b[39m.\u001b[39;49mheaders,\n\u001b[0;32m    491\u001b[0m         redirect\u001b[39m=\u001b[39;49m\u001b[39mFalse\u001b[39;49;00m,\n\u001b[0;32m    492\u001b[0m         assert_same_host\u001b[39m=\u001b[39;49m\u001b[39mFalse\u001b[39;49;00m,\n\u001b[0;32m    493\u001b[0m         preload_content\u001b[39m=\u001b[39;49m\u001b[39mFalse\u001b[39;49;00m,\n\u001b[0;32m    494\u001b[0m         decode_content\u001b[39m=\u001b[39;49m\u001b[39mFalse\u001b[39;49;00m,\n\u001b[0;32m    495\u001b[0m         retries\u001b[39m=\u001b[39;49m\u001b[39mself\u001b[39;49m\u001b[39m.\u001b[39;49mmax_retries,\n\u001b[0;32m    496\u001b[0m         timeout\u001b[39m=\u001b[39;49mtimeout,\n\u001b[0;32m    497\u001b[0m         chunked\u001b[39m=\u001b[39;49mchunked,\n\u001b[0;32m    498\u001b[0m     )\n\u001b[0;32m    500\u001b[0m \u001b[39mexcept\u001b[39;00m (ProtocolError, \u001b[39mOSError\u001b[39;00m) \u001b[39mas\u001b[39;00m err:\n",
      "File \u001b[1;32md:\\Env\\Python310\\lib\\site-packages\\urllib3\\connectionpool.py:877\u001b[0m, in \u001b[0;36mHTTPConnectionPool.urlopen\u001b[1;34m(self, method, url, body, headers, retries, redirect, assert_same_host, timeout, pool_timeout, release_conn, chunked, body_pos, preload_content, decode_content, **response_kw)\u001b[0m\n\u001b[0;32m    874\u001b[0m     log\u001b[39m.\u001b[39mwarning(\n\u001b[0;32m    875\u001b[0m         \u001b[39m\"\u001b[39m\u001b[39mRetrying (\u001b[39m\u001b[39m%r\u001b[39;00m\u001b[39m) after connection broken by \u001b[39m\u001b[39m'\u001b[39m\u001b[39m%r\u001b[39;00m\u001b[39m'\u001b[39m\u001b[39m: \u001b[39m\u001b[39m%s\u001b[39;00m\u001b[39m\"\u001b[39m, retries, err, url\n\u001b[0;32m    876\u001b[0m     )\n\u001b[1;32m--> 877\u001b[0m     \u001b[39mreturn\u001b[39;00m \u001b[39mself\u001b[39m\u001b[39m.\u001b[39murlopen(\n\u001b[0;32m    878\u001b[0m         method,\n\u001b[0;32m    879\u001b[0m         url,\n\u001b[0;32m    880\u001b[0m         body,\n\u001b[0;32m    881\u001b[0m         headers,\n\u001b[0;32m    882\u001b[0m         retries,\n\u001b[0;32m    883\u001b[0m         redirect,\n\u001b[0;32m    884\u001b[0m         assert_same_host,\n\u001b[0;32m    885\u001b[0m         timeout\u001b[39m=\u001b[39mtimeout,\n\u001b[0;32m    886\u001b[0m         pool_timeout\u001b[39m=\u001b[39mpool_timeout,\n\u001b[0;32m    887\u001b[0m         release_conn\u001b[39m=\u001b[39mrelease_conn,\n\u001b[0;32m    888\u001b[0m         chunked\u001b[39m=\u001b[39mchunked,\n\u001b[0;32m    889\u001b[0m         body_pos\u001b[39m=\u001b[39mbody_pos,\n\u001b[0;32m    890\u001b[0m         preload_content\u001b[39m=\u001b[39mpreload_content,\n\u001b[0;32m    891\u001b[0m         decode_content\u001b[39m=\u001b[39mdecode_content,\n\u001b[0;32m    892\u001b[0m         \u001b[39m*\u001b[39m\u001b[39m*\u001b[39mresponse_kw,\n\u001b[0;32m    893\u001b[0m     )\n\u001b[0;32m    895\u001b[0m \u001b[39m# Handle redirect?\u001b[39;00m\n",
      "File \u001b[1;32md:\\Env\\Python310\\lib\\site-packages\\urllib3\\connectionpool.py:877\u001b[0m, in \u001b[0;36mHTTPConnectionPool.urlopen\u001b[1;34m(self, method, url, body, headers, retries, redirect, assert_same_host, timeout, pool_timeout, release_conn, chunked, body_pos, preload_content, decode_content, **response_kw)\u001b[0m\n\u001b[0;32m    874\u001b[0m     log\u001b[39m.\u001b[39mwarning(\n\u001b[0;32m    875\u001b[0m         \u001b[39m\"\u001b[39m\u001b[39mRetrying (\u001b[39m\u001b[39m%r\u001b[39;00m\u001b[39m) after connection broken by \u001b[39m\u001b[39m'\u001b[39m\u001b[39m%r\u001b[39;00m\u001b[39m'\u001b[39m\u001b[39m: \u001b[39m\u001b[39m%s\u001b[39;00m\u001b[39m\"\u001b[39m, retries, err, url\n\u001b[0;32m    876\u001b[0m     )\n\u001b[1;32m--> 877\u001b[0m     \u001b[39mreturn\u001b[39;00m \u001b[39mself\u001b[39m\u001b[39m.\u001b[39murlopen(\n\u001b[0;32m    878\u001b[0m         method,\n\u001b[0;32m    879\u001b[0m         url,\n\u001b[0;32m    880\u001b[0m         body,\n\u001b[0;32m    881\u001b[0m         headers,\n\u001b[0;32m    882\u001b[0m         retries,\n\u001b[0;32m    883\u001b[0m         redirect,\n\u001b[0;32m    884\u001b[0m         assert_same_host,\n\u001b[0;32m    885\u001b[0m         timeout\u001b[39m=\u001b[39mtimeout,\n\u001b[0;32m    886\u001b[0m         pool_timeout\u001b[39m=\u001b[39mpool_timeout,\n\u001b[0;32m    887\u001b[0m         release_conn\u001b[39m=\u001b[39mrelease_conn,\n\u001b[0;32m    888\u001b[0m         chunked\u001b[39m=\u001b[39mchunked,\n\u001b[0;32m    889\u001b[0m         body_pos\u001b[39m=\u001b[39mbody_pos,\n\u001b[0;32m    890\u001b[0m         preload_content\u001b[39m=\u001b[39mpreload_content,\n\u001b[0;32m    891\u001b[0m         decode_content\u001b[39m=\u001b[39mdecode_content,\n\u001b[0;32m    892\u001b[0m         \u001b[39m*\u001b[39m\u001b[39m*\u001b[39mresponse_kw,\n\u001b[0;32m    893\u001b[0m     )\n\u001b[0;32m    895\u001b[0m \u001b[39m# Handle redirect?\u001b[39;00m\n",
      "File \u001b[1;32md:\\Env\\Python310\\lib\\site-packages\\urllib3\\connectionpool.py:877\u001b[0m, in \u001b[0;36mHTTPConnectionPool.urlopen\u001b[1;34m(self, method, url, body, headers, retries, redirect, assert_same_host, timeout, pool_timeout, release_conn, chunked, body_pos, preload_content, decode_content, **response_kw)\u001b[0m\n\u001b[0;32m    874\u001b[0m     log\u001b[39m.\u001b[39mwarning(\n\u001b[0;32m    875\u001b[0m         \u001b[39m\"\u001b[39m\u001b[39mRetrying (\u001b[39m\u001b[39m%r\u001b[39;00m\u001b[39m) after connection broken by \u001b[39m\u001b[39m'\u001b[39m\u001b[39m%r\u001b[39;00m\u001b[39m'\u001b[39m\u001b[39m: \u001b[39m\u001b[39m%s\u001b[39;00m\u001b[39m\"\u001b[39m, retries, err, url\n\u001b[0;32m    876\u001b[0m     )\n\u001b[1;32m--> 877\u001b[0m     \u001b[39mreturn\u001b[39;00m \u001b[39mself\u001b[39m\u001b[39m.\u001b[39murlopen(\n\u001b[0;32m    878\u001b[0m         method,\n\u001b[0;32m    879\u001b[0m         url,\n\u001b[0;32m    880\u001b[0m         body,\n\u001b[0;32m    881\u001b[0m         headers,\n\u001b[0;32m    882\u001b[0m         retries,\n\u001b[0;32m    883\u001b[0m         redirect,\n\u001b[0;32m    884\u001b[0m         assert_same_host,\n\u001b[0;32m    885\u001b[0m         timeout\u001b[39m=\u001b[39mtimeout,\n\u001b[0;32m    886\u001b[0m         pool_timeout\u001b[39m=\u001b[39mpool_timeout,\n\u001b[0;32m    887\u001b[0m         release_conn\u001b[39m=\u001b[39mrelease_conn,\n\u001b[0;32m    888\u001b[0m         chunked\u001b[39m=\u001b[39mchunked,\n\u001b[0;32m    889\u001b[0m         body_pos\u001b[39m=\u001b[39mbody_pos,\n\u001b[0;32m    890\u001b[0m         preload_content\u001b[39m=\u001b[39mpreload_content,\n\u001b[0;32m    891\u001b[0m         decode_content\u001b[39m=\u001b[39mdecode_content,\n\u001b[0;32m    892\u001b[0m         \u001b[39m*\u001b[39m\u001b[39m*\u001b[39mresponse_kw,\n\u001b[0;32m    893\u001b[0m     )\n\u001b[0;32m    895\u001b[0m \u001b[39m# Handle redirect?\u001b[39;00m\n",
      "File \u001b[1;32md:\\Env\\Python310\\lib\\site-packages\\urllib3\\connectionpool.py:847\u001b[0m, in \u001b[0;36mHTTPConnectionPool.urlopen\u001b[1;34m(self, method, url, body, headers, retries, redirect, assert_same_host, timeout, pool_timeout, release_conn, chunked, body_pos, preload_content, decode_content, **response_kw)\u001b[0m\n\u001b[0;32m    845\u001b[0m     new_e \u001b[39m=\u001b[39m ProtocolError(\u001b[39m\"\u001b[39m\u001b[39mConnection aborted.\u001b[39m\u001b[39m\"\u001b[39m, new_e)\n\u001b[1;32m--> 847\u001b[0m retries \u001b[39m=\u001b[39m retries\u001b[39m.\u001b[39;49mincrement(\n\u001b[0;32m    848\u001b[0m     method, url, error\u001b[39m=\u001b[39;49mnew_e, _pool\u001b[39m=\u001b[39;49m\u001b[39mself\u001b[39;49m, _stacktrace\u001b[39m=\u001b[39;49msys\u001b[39m.\u001b[39;49mexc_info()[\u001b[39m2\u001b[39;49m]\n\u001b[0;32m    849\u001b[0m )\n\u001b[0;32m    850\u001b[0m retries\u001b[39m.\u001b[39msleep()\n",
      "File \u001b[1;32md:\\Env\\Python310\\lib\\site-packages\\urllib3\\util\\retry.py:515\u001b[0m, in \u001b[0;36mRetry.increment\u001b[1;34m(self, method, url, response, error, _pool, _stacktrace)\u001b[0m\n\u001b[0;32m    514\u001b[0m     reason \u001b[39m=\u001b[39m error \u001b[39mor\u001b[39;00m ResponseError(cause)\n\u001b[1;32m--> 515\u001b[0m     \u001b[39mraise\u001b[39;00m MaxRetryError(_pool, url, reason) \u001b[39mfrom\u001b[39;00m \u001b[39mreason\u001b[39;00m  \u001b[39m# type: ignore[arg-type]\u001b[39;00m\n\u001b[0;32m    517\u001b[0m log\u001b[39m.\u001b[39mdebug(\u001b[39m\"\u001b[39m\u001b[39mIncremented Retry for (url=\u001b[39m\u001b[39m'\u001b[39m\u001b[39m%s\u001b[39;00m\u001b[39m'\u001b[39m\u001b[39m): \u001b[39m\u001b[39m%r\u001b[39;00m\u001b[39m\"\u001b[39m, url, new_retry)\n",
      "\u001b[1;31mMaxRetryError\u001b[0m: HTTPSConnectionPool(host='i.instagram.com', port=443): Max retries exceeded with url: /api/v1/users/62883843682/info/ (Caused by ProtocolError('Connection aborted.', ConnectionAbortedError(10053, '你的主机中的软件中止了一个已建立的连接。', None, 10053, None)))",
      "\nDuring handling of the above exception, another exception occurred:\n",
      "\u001b[1;31mConnectionError\u001b[0m                           Traceback (most recent call last)",
      "File \u001b[1;32md:\\Env\\Python310\\lib\\site-packages\\instagrapi\\mixins\\private.py:345\u001b[0m, in \u001b[0;36mPrivateRequestMixin._send_private_request\u001b[1;34m(self, endpoint, data, params, login, with_signature, headers, extra_sig, domain)\u001b[0m\n\u001b[0;32m    344\u001b[0m     \u001b[39mself\u001b[39m\u001b[39m.\u001b[39mprivate\u001b[39m.\u001b[39mheaders\u001b[39m.\u001b[39mpop(\u001b[39m\"\u001b[39m\u001b[39mContent-Type\u001b[39m\u001b[39m\"\u001b[39m, \u001b[39mNone\u001b[39;00m)\n\u001b[1;32m--> 345\u001b[0m     response \u001b[39m=\u001b[39m \u001b[39mself\u001b[39;49m\u001b[39m.\u001b[39;49mprivate\u001b[39m.\u001b[39;49mget(\n\u001b[0;32m    346\u001b[0m         api_url, params\u001b[39m=\u001b[39;49mparams, proxies\u001b[39m=\u001b[39;49m\u001b[39mself\u001b[39;49m\u001b[39m.\u001b[39;49mprivate\u001b[39m.\u001b[39;49mproxies\n\u001b[0;32m    347\u001b[0m     )\n\u001b[0;32m    348\u001b[0m \u001b[39mself\u001b[39m\u001b[39m.\u001b[39mlogger\u001b[39m.\u001b[39mdebug(\n\u001b[0;32m    349\u001b[0m     \u001b[39m\"\u001b[39m\u001b[39mprivate_request \u001b[39m\u001b[39m%s\u001b[39;00m\u001b[39m: \u001b[39m\u001b[39m%s\u001b[39;00m\u001b[39m (\u001b[39m\u001b[39m%s\u001b[39;00m\u001b[39m)\u001b[39m\u001b[39m\"\u001b[39m,\n\u001b[0;32m    350\u001b[0m     response\u001b[39m.\u001b[39mstatus_code,\n\u001b[0;32m    351\u001b[0m     response\u001b[39m.\u001b[39murl,\n\u001b[0;32m    352\u001b[0m     response\u001b[39m.\u001b[39mtext,\n\u001b[0;32m    353\u001b[0m )\n",
      "File \u001b[1;32md:\\Env\\Python310\\lib\\site-packages\\requests\\sessions.py:602\u001b[0m, in \u001b[0;36mSession.get\u001b[1;34m(self, url, **kwargs)\u001b[0m\n\u001b[0;32m    601\u001b[0m kwargs\u001b[39m.\u001b[39msetdefault(\u001b[39m\"\u001b[39m\u001b[39mallow_redirects\u001b[39m\u001b[39m\"\u001b[39m, \u001b[39mTrue\u001b[39;00m)\n\u001b[1;32m--> 602\u001b[0m \u001b[39mreturn\u001b[39;00m \u001b[39mself\u001b[39m\u001b[39m.\u001b[39mrequest(\u001b[39m\"\u001b[39m\u001b[39mGET\u001b[39m\u001b[39m\"\u001b[39m, url, \u001b[39m*\u001b[39m\u001b[39m*\u001b[39mkwargs)\n",
      "File \u001b[1;32md:\\Env\\Python310\\lib\\site-packages\\requests\\sessions.py:589\u001b[0m, in \u001b[0;36mSession.request\u001b[1;34m(self, method, url, params, data, headers, cookies, files, auth, timeout, allow_redirects, proxies, hooks, stream, verify, cert, json)\u001b[0m\n\u001b[0;32m    588\u001b[0m send_kwargs\u001b[39m.\u001b[39mupdate(settings)\n\u001b[1;32m--> 589\u001b[0m resp \u001b[39m=\u001b[39m \u001b[39mself\u001b[39m\u001b[39m.\u001b[39msend(prep, \u001b[39m*\u001b[39m\u001b[39m*\u001b[39msend_kwargs)\n\u001b[0;32m    591\u001b[0m \u001b[39mreturn\u001b[39;00m resp\n",
      "File \u001b[1;32md:\\Env\\Python310\\lib\\site-packages\\requests\\sessions.py:703\u001b[0m, in \u001b[0;36mSession.send\u001b[1;34m(self, request, **kwargs)\u001b[0m\n\u001b[0;32m    702\u001b[0m \u001b[39m# Send the request\u001b[39;00m\n\u001b[1;32m--> 703\u001b[0m r \u001b[39m=\u001b[39m adapter\u001b[39m.\u001b[39msend(request, \u001b[39m*\u001b[39m\u001b[39m*\u001b[39mkwargs)\n\u001b[0;32m    705\u001b[0m \u001b[39m# Total elapsed time of the request (approximately)\u001b[39;00m\n",
      "File \u001b[1;32md:\\Env\\Python310\\lib\\site-packages\\requests\\adapters.py:519\u001b[0m, in \u001b[0;36mHTTPAdapter.send\u001b[1;34m(self, request, stream, timeout, verify, cert, proxies)\u001b[0m\n\u001b[0;32m    517\u001b[0m         \u001b[39mraise\u001b[39;00m SSLError(e, request\u001b[39m=\u001b[39mrequest)\n\u001b[1;32m--> 519\u001b[0m     \u001b[39mraise\u001b[39;00m \u001b[39mConnectionError\u001b[39;00m(e, request\u001b[39m=\u001b[39mrequest)\n\u001b[0;32m    521\u001b[0m \u001b[39mexcept\u001b[39;00m ClosedPoolError \u001b[39mas\u001b[39;00m e:\n",
      "\u001b[1;31mConnectionError\u001b[0m: HTTPSConnectionPool(host='i.instagram.com', port=443): Max retries exceeded with url: /api/v1/users/62883843682/info/ (Caused by ProtocolError('Connection aborted.', ConnectionAbortedError(10053, '你的主机中的软件中止了一个已建立的连接。', None, 10053, None)))",
      "\nDuring handling of the above exception, another exception occurred:\n",
      "\u001b[1;31mClientConnectionError\u001b[0m                     Traceback (most recent call last)",
      "Cell \u001b[1;32mIn[7], line 5\u001b[0m\n\u001b[0;32m      3\u001b[0m cl \u001b[39m=\u001b[39m Client()\n\u001b[0;32m      4\u001b[0m cl\u001b[39m.\u001b[39mset_proxy(\u001b[39m'\u001b[39m\u001b[39mhttp://127.0.0.1:7890\u001b[39m\u001b[39m'\u001b[39m)\n\u001b[1;32m----> 5\u001b[0m cl\u001b[39m.\u001b[39;49mlogin_by_sessionid(sessionid)\n\u001b[0;32m      6\u001b[0m \u001b[39m# cl.login(username, password, verification_code)\u001b[39;00m\n\u001b[0;32m      7\u001b[0m \n\u001b[0;32m      8\u001b[0m \u001b[39m# user_id = cl.user_id_from_username(username)\u001b[39;00m\n\u001b[0;32m      9\u001b[0m \u001b[39m# medias = cl.user_medias(user_id, 20)\u001b[39;00m\n\u001b[0;32m     10\u001b[0m \u001b[39m# user_id\u001b[39;00m\n",
      "File \u001b[1;32md:\\Env\\Python310\\lib\\site-packages\\instagrapi\\mixins\\auth.py:367\u001b[0m, in \u001b[0;36mLoginMixin.login_by_sessionid\u001b[1;34m(self, sessionid)\u001b[0m\n\u001b[0;32m    361\u001b[0m \u001b[39mself\u001b[39m\u001b[39m.\u001b[39mauthorization_data \u001b[39m=\u001b[39m {\n\u001b[0;32m    362\u001b[0m     \u001b[39m\"\u001b[39m\u001b[39mds_user_id\u001b[39m\u001b[39m\"\u001b[39m: user_id,\n\u001b[0;32m    363\u001b[0m     \u001b[39m\"\u001b[39m\u001b[39msessionid\u001b[39m\u001b[39m\"\u001b[39m: sessionid,\n\u001b[0;32m    364\u001b[0m     \u001b[39m\"\u001b[39m\u001b[39mshould_use_header_over_cookies\u001b[39m\u001b[39m\"\u001b[39m: \u001b[39mTrue\u001b[39;00m,\n\u001b[0;32m    365\u001b[0m }\n\u001b[0;32m    366\u001b[0m \u001b[39mtry\u001b[39;00m:\n\u001b[1;32m--> 367\u001b[0m     user \u001b[39m=\u001b[39m \u001b[39mself\u001b[39;49m\u001b[39m.\u001b[39;49muser_info_v1(\u001b[39mint\u001b[39;49m(user_id))\n\u001b[0;32m    368\u001b[0m \u001b[39mexcept\u001b[39;00m (PrivateError, ValidationError):\n\u001b[0;32m    369\u001b[0m     user \u001b[39m=\u001b[39m \u001b[39mself\u001b[39m\u001b[39m.\u001b[39muser_short_gql(\u001b[39mint\u001b[39m(user_id))\n",
      "File \u001b[1;32md:\\Env\\Python310\\lib\\site-packages\\instagrapi\\mixins\\user.py:249\u001b[0m, in \u001b[0;36mUserMixin.user_info_v1\u001b[1;34m(self, user_id)\u001b[0m\n\u001b[0;32m    247\u001b[0m     \u001b[39mif\u001b[39;00m \u001b[39m\"\u001b[39m\u001b[39mUser not found\u001b[39m\u001b[39m\"\u001b[39m \u001b[39min\u001b[39;00m \u001b[39mstr\u001b[39m(e):\n\u001b[0;32m    248\u001b[0m         \u001b[39mraise\u001b[39;00m UserNotFound(e, user_id\u001b[39m=\u001b[39muser_id, \u001b[39m*\u001b[39m\u001b[39m*\u001b[39m\u001b[39mself\u001b[39m\u001b[39m.\u001b[39mlast_json)\n\u001b[1;32m--> 249\u001b[0m     \u001b[39mraise\u001b[39;00m e\n\u001b[0;32m    250\u001b[0m \u001b[39mreturn\u001b[39;00m extract_user_v1(result[\u001b[39m\"\u001b[39m\u001b[39muser\u001b[39m\u001b[39m\"\u001b[39m])\n",
      "File \u001b[1;32md:\\Env\\Python310\\lib\\site-packages\\instagrapi\\mixins\\user.py:243\u001b[0m, in \u001b[0;36mUserMixin.user_info_v1\u001b[1;34m(self, user_id)\u001b[0m\n\u001b[0;32m    241\u001b[0m user_id \u001b[39m=\u001b[39m \u001b[39mstr\u001b[39m(user_id)\n\u001b[0;32m    242\u001b[0m \u001b[39mtry\u001b[39;00m:\n\u001b[1;32m--> 243\u001b[0m     result \u001b[39m=\u001b[39m \u001b[39mself\u001b[39;49m\u001b[39m.\u001b[39;49mprivate_request(\u001b[39mf\u001b[39;49m\u001b[39m\"\u001b[39;49m\u001b[39musers/\u001b[39;49m\u001b[39m{\u001b[39;49;00muser_id\u001b[39m}\u001b[39;49;00m\u001b[39m/info/\u001b[39;49m\u001b[39m\"\u001b[39;49m)\n\u001b[0;32m    244\u001b[0m \u001b[39mexcept\u001b[39;00m ClientNotFoundError \u001b[39mas\u001b[39;00m e:\n\u001b[0;32m    245\u001b[0m     \u001b[39mraise\u001b[39;00m UserNotFound(e, user_id\u001b[39m=\u001b[39muser_id, \u001b[39m*\u001b[39m\u001b[39m*\u001b[39m\u001b[39mself\u001b[39m\u001b[39m.\u001b[39mlast_json)\n",
      "File \u001b[1;32md:\\Env\\Python310\\lib\\site-packages\\instagrapi\\mixins\\private.py:541\u001b[0m, in \u001b[0;36mPrivateRequestMixin.private_request\u001b[1;34m(self, endpoint, data, params, login, with_signature, headers, extra_sig, domain)\u001b[0m\n\u001b[0;32m    539\u001b[0m     \u001b[39mself\u001b[39m\u001b[39m.\u001b[39mchallenge_resolve(\u001b[39mself\u001b[39m\u001b[39m.\u001b[39mlast_json)\n\u001b[0;32m    540\u001b[0m \u001b[39melse\u001b[39;00m:\n\u001b[1;32m--> 541\u001b[0m     \u001b[39mraise\u001b[39;00m e\n\u001b[0;32m    542\u001b[0m \u001b[39mif\u001b[39;00m login \u001b[39mand\u001b[39;00m \u001b[39mself\u001b[39m\u001b[39m.\u001b[39muser_id:\n\u001b[0;32m    543\u001b[0m     \u001b[39m# After challenge resolve return last_json\u001b[39;00m\n\u001b[0;32m    544\u001b[0m     \u001b[39mreturn\u001b[39;00m \u001b[39mself\u001b[39m\u001b[39m.\u001b[39mlast_json\n",
      "File \u001b[1;32md:\\Env\\Python310\\lib\\site-packages\\instagrapi\\mixins\\private.py:526\u001b[0m, in \u001b[0;36mPrivateRequestMixin.private_request\u001b[1;34m(self, endpoint, data, params, login, with_signature, headers, extra_sig, domain)\u001b[0m\n\u001b[0;32m    524\u001b[0m         random_delay(delay_range\u001b[39m=\u001b[39m\u001b[39mself\u001b[39m\u001b[39m.\u001b[39mdelay_range)\n\u001b[0;32m    525\u001b[0m     \u001b[39mself\u001b[39m\u001b[39m.\u001b[39mprivate_requests_count \u001b[39m+\u001b[39m\u001b[39m=\u001b[39m \u001b[39m1\u001b[39m\n\u001b[1;32m--> 526\u001b[0m     \u001b[39mself\u001b[39m\u001b[39m.\u001b[39m_send_private_request(endpoint, \u001b[39m*\u001b[39m\u001b[39m*\u001b[39mkwargs)\n\u001b[0;32m    527\u001b[0m \u001b[39mexcept\u001b[39;00m ClientRequestTimeout:\n\u001b[0;32m    528\u001b[0m     \u001b[39mself\u001b[39m\u001b[39m.\u001b[39mlogger\u001b[39m.\u001b[39minfo(\n\u001b[0;32m    529\u001b[0m         \u001b[39m\"\u001b[39m\u001b[39mWait 60 seconds and try one more time (ClientRequestTimeout)\u001b[39m\u001b[39m\"\u001b[39m\n\u001b[0;32m    530\u001b[0m     )\n",
      "File \u001b[1;32md:\\Env\\Python310\\lib\\site-packages\\instagrapi\\mixins\\private.py:467\u001b[0m, in \u001b[0;36mPrivateRequestMixin._send_private_request\u001b[1;34m(self, endpoint, data, params, login, with_signature, headers, extra_sig, domain)\u001b[0m\n\u001b[0;32m    465\u001b[0m     \u001b[39mraise\u001b[39;00m ClientError(e, response\u001b[39m=\u001b[39me\u001b[39m.\u001b[39mresponse, \u001b[39m*\u001b[39m\u001b[39m*\u001b[39mlast_json)\n\u001b[0;32m    466\u001b[0m \u001b[39mexcept\u001b[39;00m requests\u001b[39m.\u001b[39mConnectionError \u001b[39mas\u001b[39;00m e:\n\u001b[1;32m--> 467\u001b[0m     \u001b[39mraise\u001b[39;00m ClientConnectionError(\u001b[39m\"\u001b[39m\u001b[39m{e.__class__.__name__}\u001b[39;00m\u001b[39m \u001b[39m\u001b[39m{e}\u001b[39;00m\u001b[39m\"\u001b[39m\u001b[39m.\u001b[39mformat(e\u001b[39m=\u001b[39me))\n\u001b[0;32m    468\u001b[0m \u001b[39mif\u001b[39;00m last_json\u001b[39m.\u001b[39mget(\u001b[39m\"\u001b[39m\u001b[39mstatus\u001b[39m\u001b[39m\"\u001b[39m) \u001b[39m==\u001b[39m \u001b[39m\"\u001b[39m\u001b[39mfail\u001b[39m\u001b[39m\"\u001b[39m:\n\u001b[0;32m    469\u001b[0m     \u001b[39mraise\u001b[39;00m ClientError(response\u001b[39m=\u001b[39mresponse, \u001b[39m*\u001b[39m\u001b[39m*\u001b[39mlast_json)\n",
      "\u001b[1;31mClientConnectionError\u001b[0m: ConnectionError HTTPSConnectionPool(host='i.instagram.com', port=443): Max retries exceeded with url: /api/v1/users/62883843682/info/ (Caused by ProtocolError('Connection aborted.', ConnectionAbortedError(10053, '你的主机中的软件中止了一个已建立的连接。', None, 10053, None)))"
     ]
    }
   ],
   "source": [
    "from instagrapi import Client\n",
    "\n",
    "cl = Client()\n",
    "cl.set_proxy('http://127.0.0.1:7890')\n",
    "cl.login_by_sessionid(sessionid)\n",
    "# cl.login(username, password, verification_code)\n",
    "\n",
    "# user_id = cl.user_id_from_username(username)\n",
    "# medias = cl.user_medias(user_id, 20)\n",
    "# user_id"
   ]
  },
  {
   "cell_type": "code",
   "execution_count": null,
   "metadata": {},
   "outputs": [],
   "source": [
    "cl.dump_settings('settings.json')\n",
    "# cl.load_settings('settings.json')\n",
    "# cl.get_timeline_feed()"
   ]
  },
  {
   "attachments": {},
   "cell_type": "markdown",
   "metadata": {},
   "source": [
    "# 获取粉丝"
   ]
  },
  {
   "cell_type": "code",
   "execution_count": null,
   "metadata": {},
   "outputs": [],
   "source": [
    "user_id = '5011353332'  # trump\n",
    "amount = 10"
   ]
  },
  {
   "cell_type": "code",
   "execution_count": null,
   "metadata": {},
   "outputs": [],
   "source": [
    "def get_user_followers(user_id, amount):\n",
    "    max_id = ''\n",
    "    return_hits = 0\n",
    "    while return_hits < amount:\n",
    "        users, max_id = cl.user_followers_v1_chunk(user_id, max_amount=200, max_id=max_id)\n",
    "        yield from users\n",
    "        return_hits += len(users)\n",
    "        if not max_id: \n",
    "            break\n",
    "\n",
    "for user in get_user_followers(user_id, amount):\n",
    "    userstr = f'{user.pk} {user.username} {user.full_name}\\n'\n",
    "    with open(f'{user_id}_{amount}.txt', 'a', encoding='utf-8') as fp:\n",
    "        fp.write(userstr)"
   ]
  },
  {
   "cell_type": "code",
   "execution_count": null,
   "metadata": {},
   "outputs": [],
   "source": [
    "cl.private_request(f\"friendships/{user_id}/followers/\",\n",
    "                params={\n",
    "                    \"max_id\": '',\n",
    "                    \"count\": 12,\n",
    "                    \"rank_token\": cl.rank_token,\n",
    "                    \"search_surface\": \"follow_list_page\",\n",
    "                    \"query\": \"\",\n",
    "                    \"enable_groups\": \"true\",\n",
    "                },)"
   ]
  },
  {
   "cell_type": "code",
   "execution_count": null,
   "metadata": {},
   "outputs": [],
   "source": [
    "users, _ = cl.user_followers_v1_chunk(user_id, max_amount=10, max_id='')\n",
    "for user in users:\n",
    "    print(user.pk)"
   ]
  },
  {
   "attachments": {},
   "cell_type": "markdown",
   "metadata": {},
   "source": [
    "# 发送消息"
   ]
  },
  {
   "cell_type": "code",
   "execution_count": null,
   "metadata": {},
   "outputs": [],
   "source": [
    "# cl.direct_send(text='Hello', user_ids=['62433374395'])\n",
    "cl.direct_send('How are you?', user_ids=[cl.user_id])  # send youself"
   ]
  },
  {
   "cell_type": "code",
   "execution_count": null,
   "metadata": {},
   "outputs": [],
   "source": [
    "import json\n",
    "\n",
    "cl.private_request(\"https://i.instagram.com/api/v1/direct_v2/create_group_thread/\",\n",
    "                   data={\n",
    "                    \"_csrftoken\": cl.token,\n",
    "                    \"_uuid\": cl.uuid,\n",
    "                    \"_uid\": cl.user_id,\n",
    "                    \"recipient_users\": json.dumps(\n",
    "                        [str(user) for user in ['4770627945', '63470766171', '49746075777']], separators=(\",\", \":\")\n",
    "                    ),\n",
    "                },)"
   ]
  },
  {
   "cell_type": "code",
   "execution_count": null,
   "metadata": {},
   "outputs": [],
   "source": [
    "from datetime import datetime\n",
    "\n",
    "# 设定群组消息间隔时间\n",
    "group_dm_delay = 30\n",
    "# 查找最后建的群组, 确定最后发送消息时间\n",
    "threads = cl.direct_threads()\n",
    "group = None\n",
    "last_active_at = None\n",
    "meet_dm_delay = False  # 是否达到时间间隔要求\n",
    "for thread in threads:\n",
    "    if thread.is_group and thread.admin_user_ids[0] == cl.user_id:\n",
    "        group = thread\n",
    "        break\n",
    "# 存在群组, 查找最近群组的最近20条群组消息, 获取管理员发布消息的最后时间\n",
    "if group:\n",
    "    print(group.id, len(group.users), group.thread_title)\n",
    "    messages = cl.direct_messages(group.id)\n",
    "    # 如果没有主动发送消息的最后时间, 则取最后一条群组消息的时间\n",
    "    last_active_at = messages[0].timestamp\n",
    "    for message in messages:\n",
    "        if int(message.user_id) == cl.user_id:\n",
    "            if message.item_type == 'media':\n",
    "                print('[图片消息]', message.timestamp.isoformat(), message.media.thumbnail_url)\n",
    "                last_active_at = message.timestamp\n",
    "                break\n",
    "            if message.item_type == 'xma_link':\n",
    "                print('[文字消息]', message.timestamp.isoformat(), message.text)\n",
    "                last_active_at = message.timestamp\n",
    "                break\n",
    "    print('最后管理员消息或群组活跃时间', last_active_at.isoformat())\n",
    "    timedelta = (datetime.now() - group.messages[0].timestamp).total_seconds() // 60\n",
    "    if timedelta >= group_dm_delay:\n",
    "        meet_dm_delay = True\n",
    "# 如果最后消息发送时间满足设定间隔(15分钟以上或更久), 则可以创建群组和发送消息\n",
    "if not meet_dm_delay:\n",
    "    print('不满足设定群组创建和消息时间, 请等待一段时间后重试')\n",
    "else:\n",
    "    print('TODO 创建新的群组')\n",
    "    # cl.direct_send('Hello', thread_ids=[group.id])  # 发送文本消息\n",
    "    # cl.direct_send_photo(photo_path, thread_ids=[group.id])  # 发送图片消息"
   ]
  },
  {
   "cell_type": "code",
   "execution_count": null,
   "metadata": {},
   "outputs": [],
   "source": [
    "cl.direct_messages(group.id, 20)"
   ]
  },
  {
   "cell_type": "code",
   "execution_count": null,
   "metadata": {},
   "outputs": [],
   "source": [
    "cl.direct_threads()[3]"
   ]
  },
  {
   "cell_type": "code",
   "execution_count": null,
   "metadata": {},
   "outputs": [],
   "source": [
    "cl.direct_send('Happy happy', thread_ids=[cl.direct_threads()[3].id])"
   ]
  },
  {
   "cell_type": "code",
   "execution_count": 4,
   "metadata": {},
   "outputs": [
    {
     "name": "stdout",
     "output_type": "stream",
     "text": [
      "64055380614%3ApTBqTXlUuIq78K%3A22%3AAYfpIsHGBa_wO08jvcdJYdENF1UuWkUw3Vpe2jmAOw\n"
     ]
    }
   ],
   "source": [
    "\n",
    "line = \"sessionid=64055380614%3ApTBqTXlUuIq78K%3A22%3AAYfpIsHGBa_wO08jvcdJYdENF1UuWkUw3Vpe2jmAOw|\"\n",
    "import re\n",
    "pattern = re.compile(r'(?<=sessionid=).*?(?=\\|)')\n",
    "if result := re.search(pattern, line):\n",
    "    print( result.group(0) )\n"
   ]
  }
 ],
 "metadata": {
  "kernelspec": {
   "display_name": "Python 3",
   "language": "python",
   "name": "python3"
  },
  "language_info": {
   "codemirror_mode": {
    "name": "ipython",
    "version": 3
   },
   "file_extension": ".py",
   "mimetype": "text/x-python",
   "name": "python",
   "nbconvert_exporter": "python",
   "pygments_lexer": "ipython3",
   "version": "3.10.0"
  },
  "orig_nbformat": 4,
  "vscode": {
   "interpreter": {
    "hash": "9798b14069d1836821433dd5eaee7be31fc510848240c2b2488ae467bccf8d86"
   }
  }
 },
 "nbformat": 4,
 "nbformat_minor": 2
}
