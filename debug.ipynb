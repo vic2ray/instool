{
 "cells": [
  {
   "attachments": {},
   "cell_type": "markdown",
   "metadata": {},
   "source": [
    "# Login"
   ]
  },
  {
   "cell_type": "code",
   "execution_count": 8,
   "metadata": {},
   "outputs": [],
   "source": [
    "username = 'fanja595'  # vitejej104@bzemail.com\n",
    "password = 'QMN8PcCP'\n",
    "code = 'ZBEA4H7DZMXAUSPRH35K453T4HMX4YVS'\n",
    "sessionid = '62883843682%3A6jKzPXwBCyQpsv%3A7%3AAYew09eJpzcSsnXwP-yO3U75VB_NHMsBCodz7nn0pg'"
   ]
  },
  {
   "cell_type": "code",
   "execution_count": 27,
   "metadata": {},
   "outputs": [
    {
     "data": {
      "text/plain": [
       "'857233'"
      ]
     },
     "execution_count": 27,
     "metadata": {},
     "output_type": "execute_result"
    }
   ],
   "source": [
    "import pyotp\n",
    "\n",
    "verification_code = pyotp.TOTP(code).now()\n",
    "verification_code"
   ]
  },
  {
   "cell_type": "code",
   "execution_count": 10,
   "metadata": {},
   "outputs": [
    {
     "ename": "ClientUnauthorizedError",
     "evalue": "401 Client Error: Unauthorized for url: https://www.instagram.com/graphql/query/?variables=%7B%22user_id%22%3A%2262883843682%22%2C%22include_reel%22%3Atrue%7D&query_hash=ad99dd9d3646cc3c0dda65debcd266a7",
     "output_type": "error",
     "traceback": [
      "\u001b[1;31m---------------------------------------------------------------------------\u001b[0m",
      "\u001b[1;31mValidationError\u001b[0m                           Traceback (most recent call last)",
      "File \u001b[1;32md:\\Env\\Python310\\lib\\site-packages\\instagrapi\\mixins\\auth.py:367\u001b[0m, in \u001b[0;36mLoginMixin.login_by_sessionid\u001b[1;34m(self, sessionid)\u001b[0m\n\u001b[0;32m    366\u001b[0m \u001b[39mtry\u001b[39;00m:\n\u001b[1;32m--> 367\u001b[0m     user \u001b[39m=\u001b[39m \u001b[39mself\u001b[39;49m\u001b[39m.\u001b[39;49muser_info_v1(\u001b[39mint\u001b[39;49m(user_id))\n\u001b[0;32m    368\u001b[0m \u001b[39mexcept\u001b[39;00m (PrivateError, ValidationError):\n",
      "File \u001b[1;32md:\\Env\\Python310\\lib\\site-packages\\instagrapi\\mixins\\user.py:250\u001b[0m, in \u001b[0;36mUserMixin.user_info_v1\u001b[1;34m(self, user_id)\u001b[0m\n\u001b[0;32m    249\u001b[0m     \u001b[39mraise\u001b[39;00m e\n\u001b[1;32m--> 250\u001b[0m \u001b[39mreturn\u001b[39;00m extract_user_v1(result[\u001b[39m\"\u001b[39;49m\u001b[39muser\u001b[39;49m\u001b[39m\"\u001b[39;49m])\n",
      "File \u001b[1;32md:\\Env\\Python310\\lib\\site-packages\\instagrapi\\extractors.py:217\u001b[0m, in \u001b[0;36mextract_user_v1\u001b[1;34m(data)\u001b[0m\n\u001b[0;32m    216\u001b[0m data[\u001b[39m\"\u001b[39m\u001b[39mprofile_pic_url_hd\u001b[39m\u001b[39m\"\u001b[39m] \u001b[39m=\u001b[39m pic_hd\u001b[39m.\u001b[39mget(\u001b[39m\"\u001b[39m\u001b[39murl\u001b[39m\u001b[39m\"\u001b[39m)\n\u001b[1;32m--> 217\u001b[0m \u001b[39mreturn\u001b[39;00m User(\u001b[39m*\u001b[39m\u001b[39m*\u001b[39mdata)\n",
      "File \u001b[1;32md:\\Env\\Python310\\lib\\site-packages\\pydantic\\main.py:164\u001b[0m, in \u001b[0;36mBaseModel.__init__\u001b[1;34m(__pydantic_self__, **data)\u001b[0m\n\u001b[0;32m    163\u001b[0m __tracebackhide__ \u001b[39m=\u001b[39m \u001b[39mTrue\u001b[39;00m\n\u001b[1;32m--> 164\u001b[0m __pydantic_self__\u001b[39m.\u001b[39;49m__pydantic_validator__\u001b[39m.\u001b[39;49mvalidate_python(data, self_instance\u001b[39m=\u001b[39;49m__pydantic_self__)\n",
      "\u001b[1;31mValidationError\u001b[0m: 7 validation errors for User\nfull_name\n  Field required [type=missing, input_value={'pk': 62883843682, 'user...ofile_pic_url_hd': None}, input_type=dict]\n    For further information visit https://errors.pydantic.dev/2.5/v/missing\nis_private\n  Field required [type=missing, input_value={'pk': 62883843682, 'user...ofile_pic_url_hd': None}, input_type=dict]\n    For further information visit https://errors.pydantic.dev/2.5/v/missing\nis_verified\n  Field required [type=missing, input_value={'pk': 62883843682, 'user...ofile_pic_url_hd': None}, input_type=dict]\n    For further information visit https://errors.pydantic.dev/2.5/v/missing\nmedia_count\n  Field required [type=missing, input_value={'pk': 62883843682, 'user...ofile_pic_url_hd': None}, input_type=dict]\n    For further information visit https://errors.pydantic.dev/2.5/v/missing\nfollower_count\n  Field required [type=missing, input_value={'pk': 62883843682, 'user...ofile_pic_url_hd': None}, input_type=dict]\n    For further information visit https://errors.pydantic.dev/2.5/v/missing\nfollowing_count\n  Field required [type=missing, input_value={'pk': 62883843682, 'user...ofile_pic_url_hd': None}, input_type=dict]\n    For further information visit https://errors.pydantic.dev/2.5/v/missing\nis_business\n  Field required [type=missing, input_value={'pk': 62883843682, 'user...ofile_pic_url_hd': None}, input_type=dict]\n    For further information visit https://errors.pydantic.dev/2.5/v/missing",
      "\nDuring handling of the above exception, another exception occurred:\n",
      "\u001b[1;31mHTTPError\u001b[0m                                 Traceback (most recent call last)",
      "File \u001b[1;32md:\\Env\\Python310\\lib\\site-packages\\instagrapi\\mixins\\public.py:170\u001b[0m, in \u001b[0;36mPublicRequestMixin._send_public_request\u001b[1;34m(self, url, data, params, headers, return_json, stream, timeout)\u001b[0m\n\u001b[0;32m    169\u001b[0m \u001b[39mself\u001b[39m\u001b[39m.\u001b[39mlast_public_response \u001b[39m=\u001b[39m response\n\u001b[1;32m--> 170\u001b[0m response\u001b[39m.\u001b[39;49mraise_for_status()\n\u001b[0;32m    171\u001b[0m \u001b[39mif\u001b[39;00m return_json:\n",
      "File \u001b[1;32md:\\Env\\Python310\\lib\\site-packages\\requests\\models.py:1021\u001b[0m, in \u001b[0;36mResponse.raise_for_status\u001b[1;34m(self)\u001b[0m\n\u001b[0;32m   1020\u001b[0m \u001b[39mif\u001b[39;00m http_error_msg:\n\u001b[1;32m-> 1021\u001b[0m     \u001b[39mraise\u001b[39;00m HTTPError(http_error_msg, response\u001b[39m=\u001b[39m\u001b[39mself\u001b[39m)\n",
      "\u001b[1;31mHTTPError\u001b[0m: 401 Client Error: Unauthorized for url: https://www.instagram.com/graphql/query/?variables=%7B%22user_id%22%3A%2262883843682%22%2C%22include_reel%22%3Atrue%7D&query_hash=ad99dd9d3646cc3c0dda65debcd266a7",
      "\nDuring handling of the above exception, another exception occurred:\n",
      "\u001b[1;31mClientUnauthorizedError\u001b[0m                   Traceback (most recent call last)",
      "Cell \u001b[1;32mIn[10], line 5\u001b[0m\n\u001b[0;32m      3\u001b[0m cl \u001b[39m=\u001b[39m Client()\n\u001b[0;32m      4\u001b[0m cl\u001b[39m.\u001b[39mset_proxy(\u001b[39m'\u001b[39m\u001b[39mhttp://127.0.0.1:7890\u001b[39m\u001b[39m'\u001b[39m)\n\u001b[1;32m----> 5\u001b[0m cl\u001b[39m.\u001b[39;49mlogin_by_sessionid(sessionid)\n\u001b[0;32m      6\u001b[0m \u001b[39m# cl.login(username, password, verification_code)\u001b[39;00m\n\u001b[0;32m      8\u001b[0m user_id \u001b[39m=\u001b[39m cl\u001b[39m.\u001b[39muser_id_from_username(username)\n",
      "File \u001b[1;32md:\\Env\\Python310\\lib\\site-packages\\instagrapi\\mixins\\auth.py:369\u001b[0m, in \u001b[0;36mLoginMixin.login_by_sessionid\u001b[1;34m(self, sessionid)\u001b[0m\n\u001b[0;32m    367\u001b[0m     user \u001b[39m=\u001b[39m \u001b[39mself\u001b[39m\u001b[39m.\u001b[39muser_info_v1(\u001b[39mint\u001b[39m(user_id))\n\u001b[0;32m    368\u001b[0m \u001b[39mexcept\u001b[39;00m (PrivateError, ValidationError):\n\u001b[1;32m--> 369\u001b[0m     user \u001b[39m=\u001b[39m \u001b[39mself\u001b[39;49m\u001b[39m.\u001b[39;49muser_short_gql(\u001b[39mint\u001b[39;49m(user_id))\n\u001b[0;32m    370\u001b[0m \u001b[39mself\u001b[39m\u001b[39m.\u001b[39musername \u001b[39m=\u001b[39m user\u001b[39m.\u001b[39musername\n\u001b[0;32m    371\u001b[0m \u001b[39mself\u001b[39m\u001b[39m.\u001b[39mcookie_dict[\u001b[39m\"\u001b[39m\u001b[39mds_user_id\u001b[39m\u001b[39m\"\u001b[39m] \u001b[39m=\u001b[39m user\u001b[39m.\u001b[39mpk\n",
      "File \u001b[1;32md:\\Env\\Python310\\lib\\site-packages\\instagrapi\\mixins\\user.py:75\u001b[0m, in \u001b[0;36mUserMixin.user_short_gql\u001b[1;34m(self, user_id, use_cache)\u001b[0m\n\u001b[0;32m     70\u001b[0m         \u001b[39mreturn\u001b[39;00m cache\n\u001b[0;32m     71\u001b[0m variables \u001b[39m=\u001b[39m {\n\u001b[0;32m     72\u001b[0m     \u001b[39m\"\u001b[39m\u001b[39muser_id\u001b[39m\u001b[39m\"\u001b[39m: \u001b[39mstr\u001b[39m(user_id),\n\u001b[0;32m     73\u001b[0m     \u001b[39m\"\u001b[39m\u001b[39minclude_reel\u001b[39m\u001b[39m\"\u001b[39m: \u001b[39mTrue\u001b[39;00m,\n\u001b[0;32m     74\u001b[0m }\n\u001b[1;32m---> 75\u001b[0m data \u001b[39m=\u001b[39m \u001b[39mself\u001b[39;49m\u001b[39m.\u001b[39;49mpublic_graphql_request(\n\u001b[0;32m     76\u001b[0m     variables, query_hash\u001b[39m=\u001b[39;49m\u001b[39m\"\u001b[39;49m\u001b[39mad99dd9d3646cc3c0dda65debcd266a7\u001b[39;49m\u001b[39m\"\u001b[39;49m\n\u001b[0;32m     77\u001b[0m )\n\u001b[0;32m     78\u001b[0m \u001b[39mif\u001b[39;00m \u001b[39mnot\u001b[39;00m data[\u001b[39m\"\u001b[39m\u001b[39muser\u001b[39m\u001b[39m\"\u001b[39m]:\n\u001b[0;32m     79\u001b[0m     \u001b[39mraise\u001b[39;00m UserNotFound(user_id\u001b[39m=\u001b[39muser_id, \u001b[39m*\u001b[39m\u001b[39m*\u001b[39mdata)\n",
      "File \u001b[1;32md:\\Env\\Python310\\lib\\site-packages\\instagrapi\\mixins\\public.py:244\u001b[0m, in \u001b[0;36mPublicRequestMixin.public_graphql_request\u001b[1;34m(self, variables, query_hash, query_id, data, params, headers)\u001b[0m\n\u001b[0;32m    241\u001b[0m     params \u001b[39m=\u001b[39m default_params\n\u001b[0;32m    243\u001b[0m \u001b[39mtry\u001b[39;00m:\n\u001b[1;32m--> 244\u001b[0m     body_json \u001b[39m=\u001b[39m \u001b[39mself\u001b[39;49m\u001b[39m.\u001b[39;49mpublic_request(\n\u001b[0;32m    245\u001b[0m         \u001b[39mself\u001b[39;49m\u001b[39m.\u001b[39;49mGRAPHQL_PUBLIC_API_URL,\n\u001b[0;32m    246\u001b[0m         data\u001b[39m=\u001b[39;49mdata,\n\u001b[0;32m    247\u001b[0m         params\u001b[39m=\u001b[39;49mparams,\n\u001b[0;32m    248\u001b[0m         headers\u001b[39m=\u001b[39;49mheaders,\n\u001b[0;32m    249\u001b[0m         return_json\u001b[39m=\u001b[39;49m\u001b[39mTrue\u001b[39;49;00m,\n\u001b[0;32m    250\u001b[0m     )\n\u001b[0;32m    252\u001b[0m     \u001b[39mif\u001b[39;00m body_json\u001b[39m.\u001b[39mget(\u001b[39m\"\u001b[39m\u001b[39mstatus\u001b[39m\u001b[39m\"\u001b[39m, \u001b[39mNone\u001b[39;00m) \u001b[39m!=\u001b[39m \u001b[39m\"\u001b[39m\u001b[39mok\u001b[39m\u001b[39m\"\u001b[39m:\n\u001b[0;32m    253\u001b[0m         \u001b[39mraise\u001b[39;00m ClientGraphqlError(\n\u001b[0;32m    254\u001b[0m             \u001b[39m\"\u001b[39m\u001b[39mUnexpected status \u001b[39m\u001b[39m'\u001b[39m\u001b[39m{}\u001b[39;00m\u001b[39m'\u001b[39m\u001b[39m in response. Message: \u001b[39m\u001b[39m'\u001b[39m\u001b[39m{}\u001b[39;00m\u001b[39m'\u001b[39m\u001b[39m\"\u001b[39m\u001b[39m.\u001b[39mformat(\n\u001b[0;32m    255\u001b[0m                 body_json\u001b[39m.\u001b[39mget(\u001b[39m\"\u001b[39m\u001b[39mstatus\u001b[39m\u001b[39m\"\u001b[39m, \u001b[39mNone\u001b[39;00m), body_json\u001b[39m.\u001b[39mget(\u001b[39m\"\u001b[39m\u001b[39mmessage\u001b[39m\u001b[39m\"\u001b[39m, \u001b[39mNone\u001b[39;00m)\n\u001b[0;32m    256\u001b[0m             ),\n\u001b[0;32m    257\u001b[0m             response\u001b[39m=\u001b[39mbody_json,\n\u001b[0;32m    258\u001b[0m         )\n",
      "File \u001b[1;32md:\\Env\\Python310\\lib\\site-packages\\instagrapi\\mixins\\public.py:122\u001b[0m, in \u001b[0;36mPublicRequestMixin.public_request\u001b[1;34m(self, url, data, params, headers, return_json, retries_count, retries_timeout)\u001b[0m\n\u001b[0;32m    120\u001b[0m     time\u001b[39m.\u001b[39msleep(retries_timeout)\n\u001b[0;32m    121\u001b[0m \u001b[39melse\u001b[39;00m:\n\u001b[1;32m--> 122\u001b[0m     \u001b[39mraise\u001b[39;00m e\n\u001b[0;32m    123\u001b[0m \u001b[39mcontinue\u001b[39;00m\n",
      "File \u001b[1;32md:\\Env\\Python310\\lib\\site-packages\\instagrapi\\mixins\\public.py:99\u001b[0m, in \u001b[0;36mPublicRequestMixin.public_request\u001b[1;34m(self, url, data, params, headers, return_json, retries_count, retries_timeout)\u001b[0m\n\u001b[0;32m     97\u001b[0m     \u001b[39mif\u001b[39;00m \u001b[39mself\u001b[39m\u001b[39m.\u001b[39mdelay_range:\n\u001b[0;32m     98\u001b[0m         random_delay(delay_range\u001b[39m=\u001b[39m\u001b[39mself\u001b[39m\u001b[39m.\u001b[39mdelay_range)\n\u001b[1;32m---> 99\u001b[0m     \u001b[39mreturn\u001b[39;00m \u001b[39mself\u001b[39m\u001b[39m.\u001b[39m_send_public_request(url, \u001b[39m*\u001b[39m\u001b[39m*\u001b[39mkwargs)\n\u001b[0;32m    100\u001b[0m \u001b[39mexcept\u001b[39;00m (\n\u001b[0;32m    101\u001b[0m     ClientLoginRequired,\n\u001b[0;32m    102\u001b[0m     ClientNotFoundError,\n\u001b[0;32m    103\u001b[0m     ClientBadRequestError,\n\u001b[0;32m    104\u001b[0m ) \u001b[39mas\u001b[39;00m e:\n\u001b[0;32m    105\u001b[0m     \u001b[39mraise\u001b[39;00m e  \u001b[39m# Stop retries\u001b[39;00m\n",
      "File \u001b[1;32md:\\Env\\Python310\\lib\\site-packages\\instagrapi\\mixins\\public.py:193\u001b[0m, in \u001b[0;36mPublicRequestMixin._send_public_request\u001b[1;34m(self, url, data, params, headers, return_json, stream, timeout)\u001b[0m\n\u001b[0;32m    190\u001b[0m \u001b[39mexcept\u001b[39;00m requests\u001b[39m.\u001b[39mHTTPError \u001b[39mas\u001b[39;00m e:\n\u001b[0;32m    191\u001b[0m     \u001b[39mif\u001b[39;00m e\u001b[39m.\u001b[39mresponse\u001b[39m.\u001b[39mstatus_code \u001b[39m==\u001b[39m \u001b[39m401\u001b[39m:\n\u001b[0;32m    192\u001b[0m         \u001b[39m# HTTPError: 401 Client Error: Unauthorized for url: https://i.instagram.com/api/v1/users....\u001b[39;00m\n\u001b[1;32m--> 193\u001b[0m         \u001b[39mraise\u001b[39;00m ClientUnauthorizedError(e, response\u001b[39m=\u001b[39me\u001b[39m.\u001b[39mresponse)\n\u001b[0;32m    194\u001b[0m     \u001b[39melif\u001b[39;00m e\u001b[39m.\u001b[39mresponse\u001b[39m.\u001b[39mstatus_code \u001b[39m==\u001b[39m \u001b[39m403\u001b[39m:\n\u001b[0;32m    195\u001b[0m         \u001b[39mraise\u001b[39;00m ClientForbiddenError(e, response\u001b[39m=\u001b[39me\u001b[39m.\u001b[39mresponse)\n",
      "\u001b[1;31mClientUnauthorizedError\u001b[0m: 401 Client Error: Unauthorized for url: https://www.instagram.com/graphql/query/?variables=%7B%22user_id%22%3A%2262883843682%22%2C%22include_reel%22%3Atrue%7D&query_hash=ad99dd9d3646cc3c0dda65debcd266a7"
     ]
    }
   ],
   "source": [
    "from instagrapi import Client\n",
    "\n",
    "cl = Client()\n",
    "cl.set_proxy('http://127.0.0.1:7890')\n",
    "cl.login_by_sessionid(sessionid)\n",
    "# cl.login(username, password, verification_code)\n",
    "\n",
    "user_id = cl.user_id_from_username(username)\n",
    "# medias = cl.user_medias(user_id, 20)\n",
    "user_id"
   ]
  },
  {
   "cell_type": "code",
   "execution_count": null,
   "metadata": {},
   "outputs": [],
   "source": [
    "cl.dump_settings('settings.json')\n",
    "# cl.load_settings('settings.json')\n",
    "# cl.get_timeline_feed()"
   ]
  },
  {
   "attachments": {},
   "cell_type": "markdown",
   "metadata": {},
   "source": [
    "# 获取粉丝"
   ]
  },
  {
   "cell_type": "code",
   "execution_count": null,
   "metadata": {},
   "outputs": [],
   "source": [
    "user_id = '5011353332'  # trump\n",
    "amount = 10"
   ]
  },
  {
   "cell_type": "code",
   "execution_count": null,
   "metadata": {},
   "outputs": [],
   "source": [
    "def get_user_followers(user_id, amount):\n",
    "    max_id = ''\n",
    "    return_hits = 0\n",
    "    while return_hits < amount:\n",
    "        users, max_id = cl.user_followers_v1_chunk(user_id, max_amount=200, max_id=max_id)\n",
    "        yield from users\n",
    "        return_hits += len(users)\n",
    "        if not max_id: \n",
    "            break\n",
    "\n",
    "for user in get_user_followers(user_id, amount):\n",
    "    userstr = f'{user.pk} {user.username} {user.full_name}\\n'\n",
    "    with open(f'{user_id}_{amount}.txt', 'a', encoding='utf-8') as fp:\n",
    "        fp.write(userstr)"
   ]
  },
  {
   "cell_type": "code",
   "execution_count": null,
   "metadata": {},
   "outputs": [],
   "source": [
    "cl.private_request(f\"friendships/{user_id}/followers/\",\n",
    "                params={\n",
    "                    \"max_id\": '',\n",
    "                    \"count\": 12,\n",
    "                    \"rank_token\": cl.rank_token,\n",
    "                    \"search_surface\": \"follow_list_page\",\n",
    "                    \"query\": \"\",\n",
    "                    \"enable_groups\": \"true\",\n",
    "                },)"
   ]
  },
  {
   "cell_type": "code",
   "execution_count": null,
   "metadata": {},
   "outputs": [],
   "source": [
    "users, _ = cl.user_followers_v1_chunk(user_id, max_amount=10, max_id='')\n",
    "for user in users:\n",
    "    print(user.pk)"
   ]
  },
  {
   "attachments": {},
   "cell_type": "markdown",
   "metadata": {},
   "source": [
    "# 发送消息"
   ]
  },
  {
   "cell_type": "code",
   "execution_count": null,
   "metadata": {},
   "outputs": [],
   "source": [
    "# cl.direct_send(text='Hello', user_ids=['62433374395'])\n",
    "cl.direct_send('How are you?', user_ids=[cl.user_id])  # send youself"
   ]
  },
  {
   "cell_type": "code",
   "execution_count": null,
   "metadata": {},
   "outputs": [],
   "source": [
    "import json\n",
    "\n",
    "cl.private_request(\"https://i.instagram.com/api/v1/direct_v2/create_group_thread/\",\n",
    "                   data={\n",
    "                    \"_csrftoken\": cl.token,\n",
    "                    \"_uuid\": cl.uuid,\n",
    "                    \"_uid\": cl.user_id,\n",
    "                    \"recipient_users\": json.dumps(\n",
    "                        [str(user) for user in ['4770627945', '63470766171', '49746075777']], separators=(\",\", \":\")\n",
    "                    ),\n",
    "                },)"
   ]
  },
  {
   "cell_type": "code",
   "execution_count": null,
   "metadata": {},
   "outputs": [],
   "source": [
    "from datetime import datetime\n",
    "\n",
    "# 设定群组消息间隔时间\n",
    "group_dm_delay = 30\n",
    "# 查找最后建的群组, 确定最后发送消息时间\n",
    "threads = cl.direct_threads()\n",
    "group = None\n",
    "last_active_at = None\n",
    "meet_dm_delay = False  # 是否达到时间间隔要求\n",
    "for thread in threads:\n",
    "    if thread.is_group and thread.admin_user_ids[0] == cl.user_id:\n",
    "        group = thread\n",
    "        break\n",
    "# 存在群组, 查找最近群组的最近20条群组消息, 获取管理员发布消息的最后时间\n",
    "if group:\n",
    "    print(group.id, len(group.users), group.thread_title)\n",
    "    messages = cl.direct_messages(group.id)\n",
    "    # 如果没有主动发送消息的最后时间, 则取最后一条群组消息的时间\n",
    "    last_active_at = messages[0].timestamp\n",
    "    for message in messages:\n",
    "        if int(message.user_id) == cl.user_id:\n",
    "            if message.item_type == 'media':\n",
    "                print('[图片消息]', message.timestamp.isoformat(), message.media.thumbnail_url)\n",
    "                last_active_at = message.timestamp\n",
    "                break\n",
    "            if message.item_type == 'xma_link':\n",
    "                print('[文字消息]', message.timestamp.isoformat(), message.text)\n",
    "                last_active_at = message.timestamp\n",
    "                break\n",
    "    print('最后管理员消息或群组活跃时间', last_active_at.isoformat())\n",
    "    timedelta = (datetime.now() - group.messages[0].timestamp).total_seconds() // 60\n",
    "    if timedelta >= group_dm_delay:\n",
    "        meet_dm_delay = True\n",
    "# 如果最后消息发送时间满足设定间隔(15分钟以上或更久), 则可以创建群组和发送消息\n",
    "if not meet_dm_delay:\n",
    "    print('不满足设定群组创建和消息时间, 请等待一段时间后重试')\n",
    "else:\n",
    "    print('TODO 创建新的群组')\n",
    "    # cl.direct_send('Hello', thread_ids=[group.id])  # 发送文本消息\n",
    "    # cl.direct_send_photo(photo_path, thread_ids=[group.id])  # 发送图片消息"
   ]
  },
  {
   "cell_type": "code",
   "execution_count": null,
   "metadata": {},
   "outputs": [],
   "source": [
    "cl.direct_messages(group.id, 20)"
   ]
  },
  {
   "cell_type": "code",
   "execution_count": null,
   "metadata": {},
   "outputs": [],
   "source": [
    "cl.direct_threads()[3]"
   ]
  },
  {
   "cell_type": "code",
   "execution_count": null,
   "metadata": {},
   "outputs": [],
   "source": [
    "cl.direct_send('Happy happy', thread_ids=[cl.direct_threads()[3].id])"
   ]
  },
  {
   "cell_type": "code",
   "execution_count": 4,
   "metadata": {},
   "outputs": [
    {
     "name": "stdout",
     "output_type": "stream",
     "text": [
      "64055380614%3ApTBqTXlUuIq78K%3A22%3AAYfpIsHGBa_wO08jvcdJYdENF1UuWkUw3Vpe2jmAOw\n"
     ]
    }
   ],
   "source": [
    "\n",
    "line = \"sessionid=64055380614%3ApTBqTXlUuIq78K%3A22%3AAYfpIsHGBa_wO08jvcdJYdENF1UuWkUw3Vpe2jmAOw|\"\n",
    "import re\n",
    "pattern = re.compile(r'(?<=sessionid=).*?(?=\\|)')\n",
    "if result := re.search(pattern, line):\n",
    "    print( result.group(0) )\n"
   ]
  }
 ],
 "metadata": {
  "kernelspec": {
   "display_name": "Python 3",
   "language": "python",
   "name": "python3"
  },
  "language_info": {
   "codemirror_mode": {
    "name": "ipython",
    "version": 3
   },
   "file_extension": ".py",
   "mimetype": "text/x-python",
   "name": "python",
   "nbconvert_exporter": "python",
   "pygments_lexer": "ipython3",
   "version": "3.10.0"
  },
  "orig_nbformat": 4,
  "vscode": {
   "interpreter": {
    "hash": "9798b14069d1836821433dd5eaee7be31fc510848240c2b2488ae467bccf8d86"
   }
  }
 },
 "nbformat": 4,
 "nbformat_minor": 2
}
